{
  "nbformat": 4,
  "nbformat_minor": 0,
  "metadata": {
    "colab": {
      "name": "evendigits.ipynb",
      "provenance": [],
      "collapsed_sections": []
    },
    "kernelspec": {
      "name": "python3",
      "display_name": "Python 3"
    },
    "language_info": {
      "name": "python"
    }
  },
  "cells": [
    {
      "cell_type": "markdown",
      "metadata": {
        "id": "5KDiy2nT79Hp"
      },
      "source": [
        "# ***Good morning***\n",
        "\n",
        "**This is group 8 presenting even digits**\n",
        "\n",
        "Group: Dinesh//Asritha//Aakansh//Harshvardhan//Jayakrishna\n",
        "\n",
        "8. Even Digits Problem\n",
        "\n",
        "Supervin  has  a  unique  calculator.  This  calculator  only  has  a display,  a  plus  button,  and  a  minus  button.  Currently,  the integerNis displayed on the calculator display.Pressing the plus button increases the current number displayed on  the  calculator  display  by  1.  Similarly,  pressing  the  minus button decreases the current number displayed on the calculator display by 1. The calculator does not display any leading zeros. For  example,  if100is  displayed  on  the  calculator  display, pressing  the  minus  button  once  will  cause  the  calculator  to display99.Supervin  does  not  like  odd  digits,  because  he  thinks  they  are \"odd\". Therefore, he wants to display an integer with only even digits  in  its  decimal  representation,  using  only  the  calculator buttons.  Since  the  calculator  isa  bit  old  and  the  buttons  are hard  to  press,  he  wants  to  use  a  minimal  number  of  button presses.Please  help  Supervin  to  determine  the  minimum  number  of button presses to make the calculator display an integer with no odd digits.InputThe   first   line   of   the   input   gives   the   number   of   test cases,T.Ttest   cases   follow.   Each   begins   with   one   line containing   an   integerN:   the   integer   initially   displayed   on Supervin's calculator.Output\n",
        "For  each  test  case,  output  one  line  containingCase  #x: y, wherexis  the  test  case  number  (starting  from  1)  andyis  the minimum number of button presses, as described above.SampleInputOutput4421112018Case #1: 0Case #2: 3Case #3: 1Case #4: 2  In  Sample  Case  #1,  the  integer  initially  displayed on  the calculator has no odd digits, so no button presses are needed.In  Sample  Case  #2,  pressing  the  minus  button  three  times  will cause the calculator to display8. There is no way to satisfy the requirements with fewer than three button presses.In  Sample  Case  #3,  either  pressing  the  minus  button  once (causing the calculator to display0) or pressing the plus button once  will  cause  the  calculator  to  display  an  integer  without  an odd digit.In  Sample  Case  #4,  pressing  the  plus  button  twice  will  cause the calculator  to  display2020.  There  is  no  way  to  satisfy  the requirements with fewer than two button presses"
      ]
    },
    {
      "cell_type": "code",
      "metadata": {
        "colab": {
          "base_uri": "https://localhost:8080/"
        },
        "id": "bjsEASHv8sJu",
        "outputId": "0f4dc03b-a2ff-4ee3-9a08-e038adadb364"
      },
      "source": [
        "N = int(input())\n",
        "for x in range(N):\n",
        "    A = str(input())\n",
        "    numberOfDigits = len(A)\n",
        "    firstOddDigitIndex = -1\n",
        "    \n",
        "    for y in range(numberOfDigits):\n",
        "        if int(A[y]) % 2 != 0:\n",
        "            firstOddDigitIndex = y\n",
        "            break\n",
        "\n",
        "    if firstOddDigitIndex == -1:\n",
        "        print(\"Case #{}: {}\".format(int(x+1), 0))\n",
        "    elif firstOddDigitIndex == numberOfDigits-1:\n",
        "        print(\"Case #{}: {}\".format(int(x+1), 1))\n",
        "    else:\n",
        "        # mainNum is the slice of the original number from the first odd digit to the end\n",
        "        mainNum = int(A[firstOddDigitIndex: ])\n",
        "        numberOfDigitsInMain = len(str(mainNum))\n",
        "\n",
        "        # numberWithZeroes is the number used to replace all the digits to the right of the first odd digit with zeroes\n",
        "        numberWithZeroes = 10 ** (numberOfDigitsInMain - 1)\n",
        "\n",
        "        # numberWithEights is the number used to replace all the digits to the right of the first odd digit with eights\n",
        "        numberWithEights = ''.join(['8' for x in range(numberOfDigitsInMain - 1)])\n",
        "\n",
        "        firstOddDigit = int(str(mainNum)[ :1])\n",
        "        \n",
        "        UpNum = (firstOddDigit + 1) * numberWithZeroes\n",
        "        DownNum = int(str(firstOddDigit - 1) + numberWithEights)\n",
        "        \n",
        "        numberOfKeys = mainNum - DownNum if A[firstOddDigitIndex] == '9' else min(UpNum - mainNum, mainNum - DownNum)\n",
        "        \n",
        "        print(\"Case #{}: {}\".format(int(x+1), numberOfKeys))"
      ],
      "execution_count": 2,
      "outputs": [
        {
          "output_type": "stream",
          "name": "stdout",
          "text": [
            "1\n",
            "2\n",
            "Case #1: 0\n"
          ]
        }
      ]
    },
    {
      "cell_type": "markdown",
      "metadata": {
        "id": "mRQ4k4-19jwr"
      },
      "source": [
        "# **Thank you!!!**"
      ]
    }
  ]
}